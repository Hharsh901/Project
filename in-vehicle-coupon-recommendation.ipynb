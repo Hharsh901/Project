{
 "cells": [
  {
   "cell_type": "code",
   "execution_count": 1,
   "id": "modular-circular",
   "metadata": {
    "execution": {
     "iopub.execute_input": "2021-06-28T06:58:26.119906Z",
     "iopub.status.busy": "2021-06-28T06:58:26.119255Z",
     "iopub.status.idle": "2021-06-28T06:58:27.515100Z",
     "shell.execute_reply": "2021-06-28T06:58:27.514346Z",
     "shell.execute_reply.started": "2021-06-28T06:57:23.276940Z"
    },
    "id": "Ej5V0w73Wrso",
    "papermill": {
     "duration": 1.421844,
     "end_time": "2021-06-28T06:58:27.515301",
     "exception": false,
     "start_time": "2021-06-28T06:58:26.093457",
     "status": "completed"
    },
    "tags": []
   },
   "outputs": [],
   "source": [
    "#importing libaries for various classification techniques\n",
    "\n",
    "import numpy as np\n",
    "import pandas as pd\n",
    "import matplotlib.pyplot as plt\n",
    "from collections import Counter\n",
    "#from pandas.plotiing import scatter_matrix\n",
    "from sklearn.linear_model import LogisticRegression # logistic regression\n",
    "from sklearn import svm # support vector machine\n",
    "from sklearn.ensemble import RandomForestClassifier #Random_forest\n",
    "from sklearn.tree import DecisionTreeClassifier #Decision tree\n",
    "from sklearn.naive_bayes import GaussianNB #Naive_bayes\n",
    "from sklearn.neighbors import KNeighborsClassifier #K nearest neighbors\n",
    "from sklearn.preprocessing import LabelEncoder\n",
    "from sklearn.model_selection import train_test_split\n",
    "from sklearn.model_selection import cross_val_score\n",
    "from sklearn.model_selection import cross_val_predict\n",
    "from sklearn.model_selection import KFold\n",
    "from sklearn.metrics import confusion_matrix\n",
    "from sklearn.metrics import classification_report"
   ]
  },
  {
   "cell_type": "code",
   "execution_count": 2,
   "id": "given-arthur",
   "metadata": {
    "execution": {
     "iopub.execute_input": "2021-06-28T06:58:27.551617Z",
     "iopub.status.busy": "2021-06-28T06:58:27.550923Z",
     "iopub.status.idle": "2021-06-28T06:58:27.724216Z",
     "shell.execute_reply": "2021-06-28T06:58:27.723557Z",
     "shell.execute_reply.started": "2021-06-28T06:57:24.458310Z"
    },
    "id": "Ij-qGEaKb3_i",
    "outputId": "bec7c4c4-f6fd-43cc-a19a-acf3ad31385a",
    "papermill": {
     "duration": 0.192307,
     "end_time": "2021-06-28T06:58:27.724356",
     "exception": false,
     "start_time": "2021-06-28T06:58:27.532049",
     "status": "completed"
    },
    "tags": []
   },
   "outputs": [
    {
     "name": "stdout",
     "output_type": "stream",
     "text": [
      "<class 'pandas.core.frame.DataFrame'>\n",
      "RangeIndex: 12684 entries, 0 to 12683\n",
      "Data columns (total 25 columns):\n",
      " #   Column                Non-Null Count  Dtype \n",
      "---  ------                --------------  ----- \n",
      " 0   destination           12684 non-null  object\n",
      " 1   passanger             12684 non-null  object\n",
      " 2   weather               12684 non-null  object\n",
      " 3   temperature           12684 non-null  int64 \n",
      " 4   coupon                12684 non-null  object\n",
      " 5   expiration            12684 non-null  object\n",
      " 6   gender                12684 non-null  object\n",
      " 7   age                   12684 non-null  object\n",
      " 8   maritalStatus         12684 non-null  object\n",
      " 9   has_children          12684 non-null  int64 \n",
      " 10  education             12684 non-null  object\n",
      " 11  occupation            12684 non-null  object\n",
      " 12  income                12684 non-null  object\n",
      " 13  car                   108 non-null    object\n",
      " 14  Bar                   12577 non-null  object\n",
      " 15  CoffeeHouse           12467 non-null  object\n",
      " 16  CarryAway             12533 non-null  object\n",
      " 17  RestaurantLessThan20  12554 non-null  object\n",
      " 18  Restaurant20To50      12495 non-null  object\n",
      " 19  toCoupon_GEQ5min      12684 non-null  int64 \n",
      " 20  toCoupon_GEQ15min     12684 non-null  int64 \n",
      " 21  toCoupon_GEQ25min     12684 non-null  int64 \n",
      " 22  direction_same        12684 non-null  int64 \n",
      " 23  direction_opp         12684 non-null  int64 \n",
      " 24  Accept(Y/N?)          12684 non-null  int64 \n",
      "dtypes: int64(8), object(17)\n",
      "memory usage: 2.4+ MB\n"
     ]
    },
    {
     "data": {
      "text/html": [
       "<div>\n",
       "<style scoped>\n",
       "    .dataframe tbody tr th:only-of-type {\n",
       "        vertical-align: middle;\n",
       "    }\n",
       "\n",
       "    .dataframe tbody tr th {\n",
       "        vertical-align: top;\n",
       "    }\n",
       "\n",
       "    .dataframe thead th {\n",
       "        text-align: right;\n",
       "    }\n",
       "</style>\n",
       "<table border=\"1\" class=\"dataframe\">\n",
       "  <thead>\n",
       "    <tr style=\"text-align: right;\">\n",
       "      <th></th>\n",
       "      <th>destination</th>\n",
       "      <th>passanger</th>\n",
       "      <th>weather</th>\n",
       "      <th>temperature</th>\n",
       "      <th>coupon</th>\n",
       "      <th>expiration</th>\n",
       "      <th>gender</th>\n",
       "      <th>age</th>\n",
       "      <th>maritalStatus</th>\n",
       "      <th>has_children</th>\n",
       "      <th>...</th>\n",
       "      <th>CoffeeHouse</th>\n",
       "      <th>CarryAway</th>\n",
       "      <th>RestaurantLessThan20</th>\n",
       "      <th>Restaurant20To50</th>\n",
       "      <th>toCoupon_GEQ5min</th>\n",
       "      <th>toCoupon_GEQ15min</th>\n",
       "      <th>toCoupon_GEQ25min</th>\n",
       "      <th>direction_same</th>\n",
       "      <th>direction_opp</th>\n",
       "      <th>Accept(Y/N?)</th>\n",
       "    </tr>\n",
       "  </thead>\n",
       "  <tbody>\n",
       "    <tr>\n",
       "      <th>0</th>\n",
       "      <td>No Urgent Place</td>\n",
       "      <td>Alone</td>\n",
       "      <td>Sunny</td>\n",
       "      <td>55</td>\n",
       "      <td>Restaurant(&lt;20)</td>\n",
       "      <td>1d</td>\n",
       "      <td>Female</td>\n",
       "      <td>21</td>\n",
       "      <td>Unmarried partner</td>\n",
       "      <td>1</td>\n",
       "      <td>...</td>\n",
       "      <td>never</td>\n",
       "      <td>NaN</td>\n",
       "      <td>4~8</td>\n",
       "      <td>1~3</td>\n",
       "      <td>1</td>\n",
       "      <td>0</td>\n",
       "      <td>0</td>\n",
       "      <td>0</td>\n",
       "      <td>1</td>\n",
       "      <td>1</td>\n",
       "    </tr>\n",
       "    <tr>\n",
       "      <th>1</th>\n",
       "      <td>No Urgent Place</td>\n",
       "      <td>Friend(s)</td>\n",
       "      <td>Sunny</td>\n",
       "      <td>80</td>\n",
       "      <td>Coffee House</td>\n",
       "      <td>2h</td>\n",
       "      <td>Female</td>\n",
       "      <td>21</td>\n",
       "      <td>Unmarried partner</td>\n",
       "      <td>1</td>\n",
       "      <td>...</td>\n",
       "      <td>never</td>\n",
       "      <td>NaN</td>\n",
       "      <td>4~8</td>\n",
       "      <td>1~3</td>\n",
       "      <td>1</td>\n",
       "      <td>0</td>\n",
       "      <td>0</td>\n",
       "      <td>0</td>\n",
       "      <td>1</td>\n",
       "      <td>0</td>\n",
       "    </tr>\n",
       "    <tr>\n",
       "      <th>2</th>\n",
       "      <td>No Urgent Place</td>\n",
       "      <td>Friend(s)</td>\n",
       "      <td>Sunny</td>\n",
       "      <td>80</td>\n",
       "      <td>Carry out &amp; Take away</td>\n",
       "      <td>2h</td>\n",
       "      <td>Female</td>\n",
       "      <td>21</td>\n",
       "      <td>Unmarried partner</td>\n",
       "      <td>1</td>\n",
       "      <td>...</td>\n",
       "      <td>never</td>\n",
       "      <td>NaN</td>\n",
       "      <td>4~8</td>\n",
       "      <td>1~3</td>\n",
       "      <td>1</td>\n",
       "      <td>1</td>\n",
       "      <td>0</td>\n",
       "      <td>0</td>\n",
       "      <td>1</td>\n",
       "      <td>1</td>\n",
       "    </tr>\n",
       "    <tr>\n",
       "      <th>3</th>\n",
       "      <td>No Urgent Place</td>\n",
       "      <td>Friend(s)</td>\n",
       "      <td>Sunny</td>\n",
       "      <td>80</td>\n",
       "      <td>Coffee House</td>\n",
       "      <td>2h</td>\n",
       "      <td>Female</td>\n",
       "      <td>21</td>\n",
       "      <td>Unmarried partner</td>\n",
       "      <td>1</td>\n",
       "      <td>...</td>\n",
       "      <td>never</td>\n",
       "      <td>NaN</td>\n",
       "      <td>4~8</td>\n",
       "      <td>1~3</td>\n",
       "      <td>1</td>\n",
       "      <td>1</td>\n",
       "      <td>0</td>\n",
       "      <td>0</td>\n",
       "      <td>1</td>\n",
       "      <td>0</td>\n",
       "    </tr>\n",
       "    <tr>\n",
       "      <th>4</th>\n",
       "      <td>No Urgent Place</td>\n",
       "      <td>Friend(s)</td>\n",
       "      <td>Sunny</td>\n",
       "      <td>80</td>\n",
       "      <td>Coffee House</td>\n",
       "      <td>1d</td>\n",
       "      <td>Female</td>\n",
       "      <td>21</td>\n",
       "      <td>Unmarried partner</td>\n",
       "      <td>1</td>\n",
       "      <td>...</td>\n",
       "      <td>never</td>\n",
       "      <td>NaN</td>\n",
       "      <td>4~8</td>\n",
       "      <td>1~3</td>\n",
       "      <td>1</td>\n",
       "      <td>1</td>\n",
       "      <td>0</td>\n",
       "      <td>0</td>\n",
       "      <td>1</td>\n",
       "      <td>0</td>\n",
       "    </tr>\n",
       "  </tbody>\n",
       "</table>\n",
       "<p>5 rows × 25 columns</p>\n",
       "</div>"
      ],
      "text/plain": [
       "       destination  passanger weather  temperature                 coupon  \\\n",
       "0  No Urgent Place      Alone   Sunny           55        Restaurant(<20)   \n",
       "1  No Urgent Place  Friend(s)   Sunny           80           Coffee House   \n",
       "2  No Urgent Place  Friend(s)   Sunny           80  Carry out & Take away   \n",
       "3  No Urgent Place  Friend(s)   Sunny           80           Coffee House   \n",
       "4  No Urgent Place  Friend(s)   Sunny           80           Coffee House   \n",
       "\n",
       "  expiration  gender age      maritalStatus  has_children  ... CoffeeHouse  \\\n",
       "0         1d  Female  21  Unmarried partner             1  ...       never   \n",
       "1         2h  Female  21  Unmarried partner             1  ...       never   \n",
       "2         2h  Female  21  Unmarried partner             1  ...       never   \n",
       "3         2h  Female  21  Unmarried partner             1  ...       never   \n",
       "4         1d  Female  21  Unmarried partner             1  ...       never   \n",
       "\n",
       "  CarryAway RestaurantLessThan20 Restaurant20To50 toCoupon_GEQ5min  \\\n",
       "0       NaN                  4~8              1~3                1   \n",
       "1       NaN                  4~8              1~3                1   \n",
       "2       NaN                  4~8              1~3                1   \n",
       "3       NaN                  4~8              1~3                1   \n",
       "4       NaN                  4~8              1~3                1   \n",
       "\n",
       "  toCoupon_GEQ15min toCoupon_GEQ25min direction_same direction_opp  \\\n",
       "0                 0                 0              0             1   \n",
       "1                 0                 0              0             1   \n",
       "2                 1                 0              0             1   \n",
       "3                 1                 0              0             1   \n",
       "4                 1                 0              0             1   \n",
       "\n",
       "   Accept(Y/N?)  \n",
       "0             1  \n",
       "1             0  \n",
       "2             1  \n",
       "3             0  \n",
       "4             0  \n",
       "\n",
       "[5 rows x 25 columns]"
      ]
     },
     "execution_count": 2,
     "metadata": {},
     "output_type": "execute_result"
    }
   ],
   "source": [
    "#Reading the data set\n",
    "df =pd.read_csv(\"Data.csv\")\n",
    "df.info()\n",
    "df.head()"
   ]
  },
  {
   "cell_type": "code",
   "execution_count": 3,
   "id": "indoor-calibration",
   "metadata": {
    "execution": {
     "iopub.execute_input": "2021-06-28T06:58:27.767589Z",
     "iopub.status.busy": "2021-06-28T06:58:27.766864Z",
     "iopub.status.idle": "2021-06-28T06:58:27.796375Z",
     "shell.execute_reply": "2021-06-28T06:58:27.795814Z",
     "shell.execute_reply.started": "2021-06-28T06:57:24.616367Z"
    },
    "id": "qJ0rDDTKcpR6",
    "outputId": "00b4944d-87a7-4749-8b9f-bc7d09c86f81",
    "papermill": {
     "duration": 0.054105,
     "end_time": "2021-06-28T06:58:27.796511",
     "exception": false,
     "start_time": "2021-06-28T06:58:27.742406",
     "status": "completed"
    },
    "tags": []
   },
   "outputs": [
    {
     "data": {
      "text/plain": [
       "destination             0\n",
       "passanger               0\n",
       "weather                 0\n",
       "temperature             0\n",
       "coupon                  0\n",
       "expiration              0\n",
       "gender                  0\n",
       "age                     0\n",
       "maritalStatus           0\n",
       "has_children            0\n",
       "education               0\n",
       "occupation              0\n",
       "income                  0\n",
       "car                     0\n",
       "Bar                     0\n",
       "CoffeeHouse             0\n",
       "CarryAway               0\n",
       "RestaurantLessThan20    0\n",
       "Restaurant20To50        0\n",
       "toCoupon_GEQ5min        0\n",
       "toCoupon_GEQ15min       0\n",
       "toCoupon_GEQ25min       0\n",
       "direction_same          0\n",
       "direction_opp           0\n",
       "Accept(Y/N?)            0\n",
       "dtype: int64"
      ]
     },
     "execution_count": 3,
     "metadata": {},
     "output_type": "execute_result"
    }
   ],
   "source": [
    "#Finding the special characters in the data frame\n",
    "df.isin(['?']).sum(axis=0)"
   ]
  },
  {
   "cell_type": "code",
   "execution_count": 4,
   "id": "weird-roman",
   "metadata": {
    "execution": {
     "iopub.execute_input": "2021-06-28T06:58:27.862265Z",
     "iopub.status.busy": "2021-06-28T06:58:27.861145Z",
     "iopub.status.idle": "2021-06-28T06:58:27.885185Z",
     "shell.execute_reply": "2021-06-28T06:58:27.884413Z",
     "shell.execute_reply.started": "2021-06-28T06:57:24.648091Z"
    },
    "id": "belNe1jqGSWU",
    "papermill": {
     "duration": 0.071093,
     "end_time": "2021-06-28T06:58:27.885355",
     "exception": false,
     "start_time": "2021-06-28T06:58:27.814262",
     "status": "completed"
    },
    "tags": []
   },
   "outputs": [],
   "source": [
    "#Replacing the special character to nan and then drop the columns\n",
    "df['car'] = df['car'].replace('NaN',np.nan)\n",
    "df['CarryAway'] = df['CarryAway'].replace('?',np.nan)\n",
    "#Dropping the NaN rows now \n",
    "df.dropna(how='any',inplace=True)"
   ]
  },
  {
   "cell_type": "code",
   "execution_count": 6,
   "id": "rental-victoria",
   "metadata": {
    "execution": {
     "iopub.execute_input": "2021-06-28T06:58:27.942354Z",
     "iopub.status.busy": "2021-06-28T06:58:27.931665Z",
     "iopub.status.idle": "2021-06-28T06:58:27.945874Z",
     "shell.execute_reply": "2021-06-28T06:58:27.945298Z",
     "shell.execute_reply.started": "2021-06-28T06:57:24.698672Z"
    },
    "id": "Io5hhTd4dUa_",
    "papermill": {
     "duration": 0.042589,
     "end_time": "2021-06-28T06:58:27.946031",
     "exception": false,
     "start_time": "2021-06-28T06:58:27.903442",
     "status": "completed"
    },
    "tags": []
   },
   "outputs": [],
   "source": [
    "#Assigning the numeric values to the string type variables\n",
    "number = LabelEncoder()\n",
    "df['destination'] = number.fit_transform(df['destination'])\n",
    "df['passanger'] = number.fit_transform(df['passanger'])\n",
    "df['weather'] = number.fit_transform(df['weather'])\n",
    "#df['time'] = number.fit_transform(df['time'])\n",
    "df['coupon'] = number.fit_transform(df['coupon'])\n",
    "df['expiration'] = number.fit_transform(df['expiration'])\n",
    "df['gender'] = number.fit_transform(df['gender'])\n",
    "df['maritalStatus'] = number.fit_transform(df['maritalStatus'])\n",
    "df['education'] = number.fit_transform(df['education'])\n",
    "df['occupation'] = number.fit_transform(df['occupation'])\n",
    "df['Bar'] = number.fit_transform(df['Bar'])\n",
    "df['CoffeeHouse'] = number.fit_transform(df['CoffeeHouse'])\n",
    "df['car'] = number.fit_transform(df['car'])\n",
    "df['CarryAway'] = number.fit_transform(df['CarryAway'])\n",
    "df['income'] = number.fit_transform(df['income'])\n",
    "df['Restaurant20To50'] = number.fit_transform(df['Restaurant20To50'])\n",
    "df['RestaurantLessThan20'] = number.fit_transform(df['RestaurantLessThan20'])"
   ]
  },
  {
   "cell_type": "code",
   "execution_count": 7,
   "id": "eight-organic",
   "metadata": {
    "execution": {
     "iopub.execute_input": "2021-06-28T06:58:28.008760Z",
     "iopub.status.busy": "2021-06-28T06:58:28.007814Z",
     "iopub.status.idle": "2021-06-28T06:58:28.012988Z",
     "shell.execute_reply": "2021-06-28T06:58:28.012323Z",
     "shell.execute_reply.started": "2021-06-28T06:57:24.718787Z"
    },
    "id": "LBHL9ALceNMG",
    "outputId": "9ce369e3-5ebb-4af7-d837-721ae9efa2ff",
    "papermill": {
     "duration": 0.048565,
     "end_time": "2021-06-28T06:58:28.013130",
     "exception": false,
     "start_time": "2021-06-28T06:58:27.964565",
     "status": "completed"
    },
    "tags": []
   },
   "outputs": [
    {
     "data": {
      "text/html": [
       "<div>\n",
       "<style scoped>\n",
       "    .dataframe tbody tr th:only-of-type {\n",
       "        vertical-align: middle;\n",
       "    }\n",
       "\n",
       "    .dataframe tbody tr th {\n",
       "        vertical-align: top;\n",
       "    }\n",
       "\n",
       "    .dataframe thead th {\n",
       "        text-align: right;\n",
       "    }\n",
       "</style>\n",
       "<table border=\"1\" class=\"dataframe\">\n",
       "  <thead>\n",
       "    <tr style=\"text-align: right;\">\n",
       "      <th></th>\n",
       "      <th>destination</th>\n",
       "      <th>passanger</th>\n",
       "      <th>weather</th>\n",
       "      <th>temperature</th>\n",
       "      <th>coupon</th>\n",
       "      <th>expiration</th>\n",
       "      <th>gender</th>\n",
       "      <th>age</th>\n",
       "      <th>maritalStatus</th>\n",
       "      <th>has_children</th>\n",
       "      <th>...</th>\n",
       "      <th>CoffeeHouse</th>\n",
       "      <th>CarryAway</th>\n",
       "      <th>RestaurantLessThan20</th>\n",
       "      <th>Restaurant20To50</th>\n",
       "      <th>toCoupon_GEQ5min</th>\n",
       "      <th>toCoupon_GEQ15min</th>\n",
       "      <th>toCoupon_GEQ25min</th>\n",
       "      <th>direction_same</th>\n",
       "      <th>direction_opp</th>\n",
       "      <th>Accept(Y/N?)</th>\n",
       "    </tr>\n",
       "  </thead>\n",
       "  <tbody>\n",
       "    <tr>\n",
       "      <th>1237</th>\n",
       "      <td>1</td>\n",
       "      <td>0</td>\n",
       "      <td>2</td>\n",
       "      <td>55</td>\n",
       "      <td>4</td>\n",
       "      <td>0</td>\n",
       "      <td>1</td>\n",
       "      <td>26</td>\n",
       "      <td>1</td>\n",
       "      <td>0</td>\n",
       "      <td>...</td>\n",
       "      <td>1</td>\n",
       "      <td>1</td>\n",
       "      <td>0</td>\n",
       "      <td>2</td>\n",
       "      <td>1</td>\n",
       "      <td>0</td>\n",
       "      <td>0</td>\n",
       "      <td>0</td>\n",
       "      <td>1</td>\n",
       "      <td>1</td>\n",
       "    </tr>\n",
       "    <tr>\n",
       "      <th>1238</th>\n",
       "      <td>1</td>\n",
       "      <td>1</td>\n",
       "      <td>2</td>\n",
       "      <td>80</td>\n",
       "      <td>2</td>\n",
       "      <td>1</td>\n",
       "      <td>1</td>\n",
       "      <td>26</td>\n",
       "      <td>1</td>\n",
       "      <td>0</td>\n",
       "      <td>...</td>\n",
       "      <td>1</td>\n",
       "      <td>1</td>\n",
       "      <td>0</td>\n",
       "      <td>2</td>\n",
       "      <td>1</td>\n",
       "      <td>0</td>\n",
       "      <td>0</td>\n",
       "      <td>0</td>\n",
       "      <td>1</td>\n",
       "      <td>0</td>\n",
       "    </tr>\n",
       "    <tr>\n",
       "      <th>1239</th>\n",
       "      <td>1</td>\n",
       "      <td>1</td>\n",
       "      <td>2</td>\n",
       "      <td>80</td>\n",
       "      <td>0</td>\n",
       "      <td>0</td>\n",
       "      <td>1</td>\n",
       "      <td>26</td>\n",
       "      <td>1</td>\n",
       "      <td>0</td>\n",
       "      <td>...</td>\n",
       "      <td>1</td>\n",
       "      <td>1</td>\n",
       "      <td>0</td>\n",
       "      <td>2</td>\n",
       "      <td>1</td>\n",
       "      <td>0</td>\n",
       "      <td>0</td>\n",
       "      <td>0</td>\n",
       "      <td>1</td>\n",
       "      <td>1</td>\n",
       "    </tr>\n",
       "    <tr>\n",
       "      <th>1240</th>\n",
       "      <td>1</td>\n",
       "      <td>1</td>\n",
       "      <td>2</td>\n",
       "      <td>80</td>\n",
       "      <td>1</td>\n",
       "      <td>1</td>\n",
       "      <td>1</td>\n",
       "      <td>26</td>\n",
       "      <td>1</td>\n",
       "      <td>0</td>\n",
       "      <td>...</td>\n",
       "      <td>1</td>\n",
       "      <td>1</td>\n",
       "      <td>0</td>\n",
       "      <td>2</td>\n",
       "      <td>1</td>\n",
       "      <td>1</td>\n",
       "      <td>0</td>\n",
       "      <td>0</td>\n",
       "      <td>1</td>\n",
       "      <td>0</td>\n",
       "    </tr>\n",
       "    <tr>\n",
       "      <th>1241</th>\n",
       "      <td>1</td>\n",
       "      <td>1</td>\n",
       "      <td>2</td>\n",
       "      <td>80</td>\n",
       "      <td>2</td>\n",
       "      <td>0</td>\n",
       "      <td>1</td>\n",
       "      <td>26</td>\n",
       "      <td>1</td>\n",
       "      <td>0</td>\n",
       "      <td>...</td>\n",
       "      <td>1</td>\n",
       "      <td>1</td>\n",
       "      <td>0</td>\n",
       "      <td>2</td>\n",
       "      <td>1</td>\n",
       "      <td>0</td>\n",
       "      <td>0</td>\n",
       "      <td>0</td>\n",
       "      <td>1</td>\n",
       "      <td>1</td>\n",
       "    </tr>\n",
       "  </tbody>\n",
       "</table>\n",
       "<p>5 rows × 25 columns</p>\n",
       "</div>"
      ],
      "text/plain": [
       "      destination  passanger  weather  temperature  coupon  expiration  \\\n",
       "1237            1          0        2           55       4           0   \n",
       "1238            1          1        2           80       2           1   \n",
       "1239            1          1        2           80       0           0   \n",
       "1240            1          1        2           80       1           1   \n",
       "1241            1          1        2           80       2           0   \n",
       "\n",
       "      gender age  maritalStatus  has_children  ...  CoffeeHouse  CarryAway  \\\n",
       "1237       1  26              1             0  ...            1          1   \n",
       "1238       1  26              1             0  ...            1          1   \n",
       "1239       1  26              1             0  ...            1          1   \n",
       "1240       1  26              1             0  ...            1          1   \n",
       "1241       1  26              1             0  ...            1          1   \n",
       "\n",
       "      RestaurantLessThan20  Restaurant20To50  toCoupon_GEQ5min  \\\n",
       "1237                     0                 2                 1   \n",
       "1238                     0                 2                 1   \n",
       "1239                     0                 2                 1   \n",
       "1240                     0                 2                 1   \n",
       "1241                     0                 2                 1   \n",
       "\n",
       "      toCoupon_GEQ15min  toCoupon_GEQ25min  direction_same  direction_opp  \\\n",
       "1237                  0                  0               0              1   \n",
       "1238                  0                  0               0              1   \n",
       "1239                  0                  0               0              1   \n",
       "1240                  1                  0               0              1   \n",
       "1241                  0                  0               0              1   \n",
       "\n",
       "      Accept(Y/N?)  \n",
       "1237             1  \n",
       "1238             0  \n",
       "1239             1  \n",
       "1240             0  \n",
       "1241             1  \n",
       "\n",
       "[5 rows x 25 columns]"
      ]
     },
     "execution_count": 7,
     "metadata": {},
     "output_type": "execute_result"
    }
   ],
   "source": [
    "df.head(5)"
   ]
  },
  {
   "cell_type": "code",
   "execution_count": 8,
   "id": "treated-blind",
   "metadata": {
    "execution": {
     "iopub.execute_input": "2021-06-28T06:58:28.057716Z",
     "iopub.status.busy": "2021-06-28T06:58:28.056667Z",
     "iopub.status.idle": "2021-06-28T06:58:28.060318Z",
     "shell.execute_reply": "2021-06-28T06:58:28.061062Z",
     "shell.execute_reply.started": "2021-06-28T06:57:24.753133Z"
    },
    "id": "3dnE9qr9geY0",
    "outputId": "cce5846b-2893-4b7c-b57c-eddc60b3c963",
    "papermill": {
     "duration": 0.029616,
     "end_time": "2021-06-28T06:58:28.061284",
     "exception": false,
     "start_time": "2021-06-28T06:58:28.031668",
     "status": "completed"
    },
    "tags": []
   },
   "outputs": [
    {
     "name": "stdout",
     "output_type": "stream",
     "text": [
      "Class=1, Count=62, Percentage=57.407%\n",
      "Class=0, Count=46, Percentage=42.593%\n"
     ]
    }
   ],
   "source": [
    "# summarize the class distribution\n",
    "target = df.values[:,-1]\n",
    "counter = Counter(target)\n",
    "for k,v in counter.items():\n",
    "\tper = v / len(target) * 100\n",
    "\tprint('Class=%s, Count=%d, Percentage=%.3f%%' % (k, v, per))"
   ]
  },
  {
   "cell_type": "code",
   "execution_count": 11,
   "id": "unknown-madison",
   "metadata": {
    "execution": {
     "iopub.execute_input": "2021-06-28T06:58:28.123079Z",
     "iopub.status.busy": "2021-06-28T06:58:28.117050Z",
     "iopub.status.idle": "2021-06-28T06:58:28.128305Z",
     "shell.execute_reply": "2021-06-28T06:58:28.127720Z",
     "shell.execute_reply.started": "2021-06-28T06:57:24.763874Z"
    },
    "id": "pZeTE7mdekX6",
    "outputId": "29f17aeb-cd84-4fad-9901-13ec80a4cc1e",
    "papermill": {
     "duration": 0.046649,
     "end_time": "2021-06-28T06:58:28.128457",
     "exception": false,
     "start_time": "2021-06-28T06:58:28.081808",
     "status": "completed"
    },
    "tags": []
   },
   "outputs": [
    {
     "ename": "KeyError",
     "evalue": "\"['Y'] not found in axis\"",
     "output_type": "error",
     "traceback": [
      "\u001b[1;31m---------------------------------------------------------------------------\u001b[0m",
      "\u001b[1;31mKeyError\u001b[0m                                  Traceback (most recent call last)",
      "\u001b[1;32m~\\AppData\\Local\\Temp\\ipykernel_13960\\422252851.py\u001b[0m in \u001b[0;36m<module>\u001b[1;34m\u001b[0m\n\u001b[0;32m      1\u001b[0m \u001b[1;31m#Train_Test splitting\u001b[0m\u001b[1;33m\u001b[0m\u001b[1;33m\u001b[0m\u001b[0m\n\u001b[1;32m----> 2\u001b[1;33m \u001b[0mX\u001b[0m \u001b[1;33m=\u001b[0m \u001b[0mdf\u001b[0m\u001b[1;33m.\u001b[0m\u001b[0mdrop\u001b[0m\u001b[1;33m(\u001b[0m\u001b[1;33m[\u001b[0m\u001b[1;34m'Y'\u001b[0m\u001b[1;33m]\u001b[0m\u001b[1;33m,\u001b[0m\u001b[0maxis\u001b[0m\u001b[1;33m=\u001b[0m\u001b[1;36m1\u001b[0m\u001b[1;33m)\u001b[0m\u001b[1;33m\u001b[0m\u001b[1;33m\u001b[0m\u001b[0m\n\u001b[0m\u001b[0;32m      3\u001b[0m \u001b[0my\u001b[0m \u001b[1;33m=\u001b[0m \u001b[0mdf\u001b[0m\u001b[1;33m[\u001b[0m\u001b[1;34m'Y'\u001b[0m\u001b[1;33m]\u001b[0m\u001b[1;33m\u001b[0m\u001b[1;33m\u001b[0m\u001b[0m\n\u001b[0;32m      4\u001b[0m \u001b[0mX\u001b[0m\u001b[1;33m.\u001b[0m\u001b[0mhead\u001b[0m\u001b[1;33m(\u001b[0m\u001b[1;33m)\u001b[0m\u001b[1;33m\u001b[0m\u001b[1;33m\u001b[0m\u001b[0m\n",
      "\u001b[1;32m~\\anaconda3\\lib\\site-packages\\pandas\\util\\_decorators.py\u001b[0m in \u001b[0;36mwrapper\u001b[1;34m(*args, **kwargs)\u001b[0m\n\u001b[0;32m    309\u001b[0m                     \u001b[0mstacklevel\u001b[0m\u001b[1;33m=\u001b[0m\u001b[0mstacklevel\u001b[0m\u001b[1;33m,\u001b[0m\u001b[1;33m\u001b[0m\u001b[1;33m\u001b[0m\u001b[0m\n\u001b[0;32m    310\u001b[0m                 )\n\u001b[1;32m--> 311\u001b[1;33m             \u001b[1;32mreturn\u001b[0m \u001b[0mfunc\u001b[0m\u001b[1;33m(\u001b[0m\u001b[1;33m*\u001b[0m\u001b[0margs\u001b[0m\u001b[1;33m,\u001b[0m \u001b[1;33m**\u001b[0m\u001b[0mkwargs\u001b[0m\u001b[1;33m)\u001b[0m\u001b[1;33m\u001b[0m\u001b[1;33m\u001b[0m\u001b[0m\n\u001b[0m\u001b[0;32m    312\u001b[0m \u001b[1;33m\u001b[0m\u001b[0m\n\u001b[0;32m    313\u001b[0m         \u001b[1;32mreturn\u001b[0m \u001b[0mwrapper\u001b[0m\u001b[1;33m\u001b[0m\u001b[1;33m\u001b[0m\u001b[0m\n",
      "\u001b[1;32m~\\anaconda3\\lib\\site-packages\\pandas\\core\\frame.py\u001b[0m in \u001b[0;36mdrop\u001b[1;34m(self, labels, axis, index, columns, level, inplace, errors)\u001b[0m\n\u001b[0;32m   4955\u001b[0m                 \u001b[0mweight\u001b[0m  \u001b[1;36m1.0\u001b[0m     \u001b[1;36m0.8\u001b[0m\u001b[1;33m\u001b[0m\u001b[1;33m\u001b[0m\u001b[0m\n\u001b[0;32m   4956\u001b[0m         \"\"\"\n\u001b[1;32m-> 4957\u001b[1;33m         return super().drop(\n\u001b[0m\u001b[0;32m   4958\u001b[0m             \u001b[0mlabels\u001b[0m\u001b[1;33m=\u001b[0m\u001b[0mlabels\u001b[0m\u001b[1;33m,\u001b[0m\u001b[1;33m\u001b[0m\u001b[1;33m\u001b[0m\u001b[0m\n\u001b[0;32m   4959\u001b[0m             \u001b[0maxis\u001b[0m\u001b[1;33m=\u001b[0m\u001b[0maxis\u001b[0m\u001b[1;33m,\u001b[0m\u001b[1;33m\u001b[0m\u001b[1;33m\u001b[0m\u001b[0m\n",
      "\u001b[1;32m~\\anaconda3\\lib\\site-packages\\pandas\\core\\generic.py\u001b[0m in \u001b[0;36mdrop\u001b[1;34m(self, labels, axis, index, columns, level, inplace, errors)\u001b[0m\n\u001b[0;32m   4265\u001b[0m         \u001b[1;32mfor\u001b[0m \u001b[0maxis\u001b[0m\u001b[1;33m,\u001b[0m \u001b[0mlabels\u001b[0m \u001b[1;32min\u001b[0m \u001b[0maxes\u001b[0m\u001b[1;33m.\u001b[0m\u001b[0mitems\u001b[0m\u001b[1;33m(\u001b[0m\u001b[1;33m)\u001b[0m\u001b[1;33m:\u001b[0m\u001b[1;33m\u001b[0m\u001b[1;33m\u001b[0m\u001b[0m\n\u001b[0;32m   4266\u001b[0m             \u001b[1;32mif\u001b[0m \u001b[0mlabels\u001b[0m \u001b[1;32mis\u001b[0m \u001b[1;32mnot\u001b[0m \u001b[1;32mNone\u001b[0m\u001b[1;33m:\u001b[0m\u001b[1;33m\u001b[0m\u001b[1;33m\u001b[0m\u001b[0m\n\u001b[1;32m-> 4267\u001b[1;33m                 \u001b[0mobj\u001b[0m \u001b[1;33m=\u001b[0m \u001b[0mobj\u001b[0m\u001b[1;33m.\u001b[0m\u001b[0m_drop_axis\u001b[0m\u001b[1;33m(\u001b[0m\u001b[0mlabels\u001b[0m\u001b[1;33m,\u001b[0m \u001b[0maxis\u001b[0m\u001b[1;33m,\u001b[0m \u001b[0mlevel\u001b[0m\u001b[1;33m=\u001b[0m\u001b[0mlevel\u001b[0m\u001b[1;33m,\u001b[0m \u001b[0merrors\u001b[0m\u001b[1;33m=\u001b[0m\u001b[0merrors\u001b[0m\u001b[1;33m)\u001b[0m\u001b[1;33m\u001b[0m\u001b[1;33m\u001b[0m\u001b[0m\n\u001b[0m\u001b[0;32m   4268\u001b[0m \u001b[1;33m\u001b[0m\u001b[0m\n\u001b[0;32m   4269\u001b[0m         \u001b[1;32mif\u001b[0m \u001b[0minplace\u001b[0m\u001b[1;33m:\u001b[0m\u001b[1;33m\u001b[0m\u001b[1;33m\u001b[0m\u001b[0m\n",
      "\u001b[1;32m~\\anaconda3\\lib\\site-packages\\pandas\\core\\generic.py\u001b[0m in \u001b[0;36m_drop_axis\u001b[1;34m(self, labels, axis, level, errors, consolidate, only_slice)\u001b[0m\n\u001b[0;32m   4309\u001b[0m                 \u001b[0mnew_axis\u001b[0m \u001b[1;33m=\u001b[0m \u001b[0maxis\u001b[0m\u001b[1;33m.\u001b[0m\u001b[0mdrop\u001b[0m\u001b[1;33m(\u001b[0m\u001b[0mlabels\u001b[0m\u001b[1;33m,\u001b[0m \u001b[0mlevel\u001b[0m\u001b[1;33m=\u001b[0m\u001b[0mlevel\u001b[0m\u001b[1;33m,\u001b[0m \u001b[0merrors\u001b[0m\u001b[1;33m=\u001b[0m\u001b[0merrors\u001b[0m\u001b[1;33m)\u001b[0m\u001b[1;33m\u001b[0m\u001b[1;33m\u001b[0m\u001b[0m\n\u001b[0;32m   4310\u001b[0m             \u001b[1;32melse\u001b[0m\u001b[1;33m:\u001b[0m\u001b[1;33m\u001b[0m\u001b[1;33m\u001b[0m\u001b[0m\n\u001b[1;32m-> 4311\u001b[1;33m                 \u001b[0mnew_axis\u001b[0m \u001b[1;33m=\u001b[0m \u001b[0maxis\u001b[0m\u001b[1;33m.\u001b[0m\u001b[0mdrop\u001b[0m\u001b[1;33m(\u001b[0m\u001b[0mlabels\u001b[0m\u001b[1;33m,\u001b[0m \u001b[0merrors\u001b[0m\u001b[1;33m=\u001b[0m\u001b[0merrors\u001b[0m\u001b[1;33m)\u001b[0m\u001b[1;33m\u001b[0m\u001b[1;33m\u001b[0m\u001b[0m\n\u001b[0m\u001b[0;32m   4312\u001b[0m             \u001b[0mindexer\u001b[0m \u001b[1;33m=\u001b[0m \u001b[0maxis\u001b[0m\u001b[1;33m.\u001b[0m\u001b[0mget_indexer\u001b[0m\u001b[1;33m(\u001b[0m\u001b[0mnew_axis\u001b[0m\u001b[1;33m)\u001b[0m\u001b[1;33m\u001b[0m\u001b[1;33m\u001b[0m\u001b[0m\n\u001b[0;32m   4313\u001b[0m \u001b[1;33m\u001b[0m\u001b[0m\n",
      "\u001b[1;32m~\\anaconda3\\lib\\site-packages\\pandas\\core\\indexes\\base.py\u001b[0m in \u001b[0;36mdrop\u001b[1;34m(self, labels, errors)\u001b[0m\n\u001b[0;32m   6659\u001b[0m         \u001b[1;32mif\u001b[0m \u001b[0mmask\u001b[0m\u001b[1;33m.\u001b[0m\u001b[0many\u001b[0m\u001b[1;33m(\u001b[0m\u001b[1;33m)\u001b[0m\u001b[1;33m:\u001b[0m\u001b[1;33m\u001b[0m\u001b[1;33m\u001b[0m\u001b[0m\n\u001b[0;32m   6660\u001b[0m             \u001b[1;32mif\u001b[0m \u001b[0merrors\u001b[0m \u001b[1;33m!=\u001b[0m \u001b[1;34m\"ignore\"\u001b[0m\u001b[1;33m:\u001b[0m\u001b[1;33m\u001b[0m\u001b[1;33m\u001b[0m\u001b[0m\n\u001b[1;32m-> 6661\u001b[1;33m                 \u001b[1;32mraise\u001b[0m \u001b[0mKeyError\u001b[0m\u001b[1;33m(\u001b[0m\u001b[1;34mf\"{list(labels[mask])} not found in axis\"\u001b[0m\u001b[1;33m)\u001b[0m\u001b[1;33m\u001b[0m\u001b[1;33m\u001b[0m\u001b[0m\n\u001b[0m\u001b[0;32m   6662\u001b[0m             \u001b[0mindexer\u001b[0m \u001b[1;33m=\u001b[0m \u001b[0mindexer\u001b[0m\u001b[1;33m[\u001b[0m\u001b[1;33m~\u001b[0m\u001b[0mmask\u001b[0m\u001b[1;33m]\u001b[0m\u001b[1;33m\u001b[0m\u001b[1;33m\u001b[0m\u001b[0m\n\u001b[0;32m   6663\u001b[0m         \u001b[1;32mreturn\u001b[0m \u001b[0mself\u001b[0m\u001b[1;33m.\u001b[0m\u001b[0mdelete\u001b[0m\u001b[1;33m(\u001b[0m\u001b[0mindexer\u001b[0m\u001b[1;33m)\u001b[0m\u001b[1;33m\u001b[0m\u001b[1;33m\u001b[0m\u001b[0m\n",
      "\u001b[1;31mKeyError\u001b[0m: \"['Y'] not found in axis\""
     ]
    }
   ],
   "source": [
    "#Train_Test splitting\n",
    "X = df.drop(['Y'],axis=1)\n",
    "y = df['Y']\n",
    "X.head()"
   ]
  },
  {
   "cell_type": "code",
   "execution_count": 12,
   "id": "handled-withdrawal",
   "metadata": {
    "execution": {
     "iopub.execute_input": "2021-06-28T06:58:28.173575Z",
     "iopub.status.busy": "2021-06-28T06:58:28.172824Z",
     "iopub.status.idle": "2021-06-28T06:58:28.176488Z",
     "shell.execute_reply": "2021-06-28T06:58:28.175895Z",
     "shell.execute_reply.started": "2021-06-28T06:57:24.789088Z"
    },
    "id": "43q4i0cqiHVa",
    "outputId": "33561d23-3d98-4865-d1fb-e520f8778710",
    "papermill": {
     "duration": 0.028519,
     "end_time": "2021-06-28T06:58:28.176621",
     "exception": false,
     "start_time": "2021-06-28T06:58:28.148102",
     "status": "completed"
    },
    "tags": []
   },
   "outputs": [
    {
     "ename": "NameError",
     "evalue": "name 'y' is not defined",
     "output_type": "error",
     "traceback": [
      "\u001b[1;31m---------------------------------------------------------------------------\u001b[0m",
      "\u001b[1;31mNameError\u001b[0m                                 Traceback (most recent call last)",
      "\u001b[1;32m~\\AppData\\Local\\Temp\\ipykernel_13960\\3403220727.py\u001b[0m in \u001b[0;36m<module>\u001b[1;34m\u001b[0m\n\u001b[1;32m----> 1\u001b[1;33m \u001b[0my\u001b[0m\u001b[1;33m.\u001b[0m\u001b[0mhead\u001b[0m\u001b[1;33m(\u001b[0m\u001b[1;33m)\u001b[0m\u001b[1;33m\u001b[0m\u001b[1;33m\u001b[0m\u001b[0m\n\u001b[0m",
      "\u001b[1;31mNameError\u001b[0m: name 'y' is not defined"
     ]
    }
   ],
   "source": [
    "y.head()"
   ]
  },
  {
   "cell_type": "code",
   "execution_count": null,
   "id": "meaningful-prevention",
   "metadata": {
    "execution": {
     "iopub.execute_input": "2021-06-28T06:58:28.224087Z",
     "iopub.status.busy": "2021-06-28T06:58:28.223317Z",
     "iopub.status.idle": "2021-06-28T06:58:28.226464Z",
     "shell.execute_reply": "2021-06-28T06:58:28.225919Z",
     "shell.execute_reply.started": "2021-06-28T06:57:24.801445Z"
    },
    "id": "Ou-b9oIWiUpc",
    "papermill": {
     "duration": 0.029862,
     "end_time": "2021-06-28T06:58:28.226601",
     "exception": false,
     "start_time": "2021-06-28T06:58:28.196739",
     "status": "completed"
    },
    "tags": []
   },
   "outputs": [],
   "source": [
    "#Declaring the train and test\n",
    "X_train, X_test, y_train, y_test = train_test_split(X, y, test_size = 0.4,random_state=0)"
   ]
  },
  {
   "cell_type": "code",
   "execution_count": null,
   "id": "stuffed-austin",
   "metadata": {
    "execution": {
     "iopub.execute_input": "2021-06-28T06:58:28.281447Z",
     "iopub.status.busy": "2021-06-28T06:58:28.280656Z",
     "iopub.status.idle": "2021-06-28T06:58:28.283931Z",
     "shell.execute_reply": "2021-06-28T06:58:28.283289Z",
     "shell.execute_reply.started": "2021-06-28T06:57:24.815342Z"
    },
    "id": "NnHWFyTEmBvI",
    "papermill": {
     "duration": 0.037546,
     "end_time": "2021-06-28T06:58:28.284075",
     "exception": false,
     "start_time": "2021-06-28T06:58:28.246529",
     "status": "completed"
    },
    "tags": []
   },
   "outputs": [],
   "source": [
    "from sklearn.preprocessing import StandardScaler\n",
    "scaler = StandardScaler()\n",
    "X_train = pd.DataFrame(scaler.fit_transform(X_train), columns = X.columns)\n",
    "X_test = pd.DataFrame(scaler.transform(X_test), columns = X.columns)"
   ]
  },
  {
   "cell_type": "code",
   "execution_count": null,
   "id": "orange-geography",
   "metadata": {
    "execution": {
     "iopub.execute_input": "2021-06-28T06:58:28.352289Z",
     "iopub.status.busy": "2021-06-28T06:58:28.351043Z",
     "iopub.status.idle": "2021-06-28T06:58:28.356588Z",
     "shell.execute_reply": "2021-06-28T06:58:28.355898Z",
     "shell.execute_reply.started": "2021-06-28T06:57:24.833277Z"
    },
    "id": "VZAVG_JtjZFm",
    "outputId": "11502df8-4aa5-45cb-ed02-1c2641f0280a",
    "papermill": {
     "duration": 0.052851,
     "end_time": "2021-06-28T06:58:28.356746",
     "exception": false,
     "start_time": "2021-06-28T06:58:28.303895",
     "status": "completed"
    },
    "tags": []
   },
   "outputs": [],
   "source": [
    "X_train.head()"
   ]
  },
  {
   "cell_type": "markdown",
   "id": "delayed-sheffield",
   "metadata": {
    "id": "j_MBm2XOszgs",
    "papermill": {
     "duration": 0.020448,
     "end_time": "2021-06-28T06:58:28.398776",
     "exception": false,
     "start_time": "2021-06-28T06:58:28.378328",
     "status": "completed"
    },
    "tags": []
   },
   "source": [
    "#various classification techniques"
   ]
  },
  {
   "cell_type": "code",
   "execution_count": null,
   "id": "forbidden-liverpool",
   "metadata": {
    "execution": {
     "iopub.execute_input": "2021-06-28T06:58:28.448376Z",
     "iopub.status.busy": "2021-06-28T06:58:28.447692Z",
     "iopub.status.idle": "2021-06-28T06:58:28.474110Z",
     "shell.execute_reply": "2021-06-28T06:58:28.472971Z",
     "shell.execute_reply.started": "2021-06-28T06:57:24.864832Z"
    },
    "id": "4KeeCpR_k6jU",
    "outputId": "5733e985-d41d-4324-99e7-d69823d8b06f",
    "papermill": {
     "duration": 0.05495,
     "end_time": "2021-06-28T06:58:28.474312",
     "exception": false,
     "start_time": "2021-06-28T06:58:28.419362",
     "status": "completed"
    },
    "tags": []
   },
   "outputs": [],
   "source": [
    "# Logistic Regression\n",
    "LR = LogisticRegression()\n",
    "LR.fit(X_train, y_train)\n",
    "y_pred = LR.predict(X_test)\n",
    "score_LR = LR.score(X_test,y_test)\n",
    "print('The accuracy of the Logistic Regression model is', score_LR)\n",
    "targets = ['0' , '1']\n",
    "print(classification_report(y_test, y_pred,target_names=targets))"
   ]
  },
  {
   "cell_type": "code",
   "execution_count": null,
   "id": "maritime-purple",
   "metadata": {
    "execution": {
     "iopub.execute_input": "2021-06-28T06:58:28.529925Z",
     "iopub.status.busy": "2021-06-28T06:58:28.528734Z",
     "iopub.status.idle": "2021-06-28T06:58:28.548742Z",
     "shell.execute_reply": "2021-06-28T06:58:28.549397Z",
     "shell.execute_reply.started": "2021-06-28T06:57:24.896990Z"
    },
    "id": "cqXRdgBNmnJL",
    "outputId": "6f690e60-94c8-433e-a898-aee8b0bfbe23",
    "papermill": {
     "duration": 0.053903,
     "end_time": "2021-06-28T06:58:28.549591",
     "exception": false,
     "start_time": "2021-06-28T06:58:28.495688",
     "status": "completed"
    },
    "tags": []
   },
   "outputs": [],
   "source": [
    "# Support Vector Classifier (SVM/SVC)\n",
    "from sklearn.svm import SVC\n",
    "svc = SVC(gamma=0.22)\n",
    "svc.fit(X_train, y_train)\n",
    "y_pred = svc.predict(X_test)\n",
    "score_svc = svc.score(X_test,y_test)\n",
    "print('The accuracy of SVC model is', score_svc)\n",
    "targets = ['<=50k' , '>50k']\n",
    "print(classification_report(y_test, y_pred,target_names=targets))"
   ]
  },
  {
   "cell_type": "code",
   "execution_count": null,
   "id": "naval-wagon",
   "metadata": {
    "execution": {
     "iopub.execute_input": "2021-06-28T06:58:28.607246Z",
     "iopub.status.busy": "2021-06-28T06:58:28.606248Z",
     "iopub.status.idle": "2021-06-28T06:58:28.830830Z",
     "shell.execute_reply": "2021-06-28T06:58:28.830181Z",
     "shell.execute_reply.started": "2021-06-28T06:57:24.920642Z"
    },
    "id": "bA4levZgmzTF",
    "outputId": "9415d006-5aba-4e97-d0aa-48cf834f3c04",
    "papermill": {
     "duration": 0.250631,
     "end_time": "2021-06-28T06:58:28.830988",
     "exception": false,
     "start_time": "2021-06-28T06:58:28.580357",
     "status": "completed"
    },
    "tags": []
   },
   "outputs": [],
   "source": [
    "# Random Forest Classifier\n",
    "RF = RandomForestClassifier()\n",
    "RF.fit(X_train, y_train)\n",
    "y_pred = RF.predict(X_test)\n",
    "score_RF = RF.score(X_test,y_test)\n",
    "print('The accuracy of the Random Forest Model is', score_RF)\n",
    "targets = ['<=50k' , '>50k']\n",
    "print(classification_report(y_test, y_pred,target_names=targets))"
   ]
  },
  {
   "cell_type": "code",
   "execution_count": null,
   "id": "practical-rendering",
   "metadata": {
    "execution": {
     "iopub.execute_input": "2021-06-28T06:58:28.882567Z",
     "iopub.status.busy": "2021-06-28T06:58:28.881851Z",
     "iopub.status.idle": "2021-06-28T06:58:28.898496Z",
     "shell.execute_reply": "2021-06-28T06:58:28.897853Z",
     "shell.execute_reply.started": "2021-06-28T06:57:25.136210Z"
    },
    "id": "XZWlvbCVm8Uk",
    "outputId": "821320ef-38d8-4e12-d8d3-7d9422693b3a",
    "papermill": {
     "duration": 0.046053,
     "end_time": "2021-06-28T06:58:28.898644",
     "exception": false,
     "start_time": "2021-06-28T06:58:28.852591",
     "status": "completed"
    },
    "tags": []
   },
   "outputs": [],
   "source": [
    "# Decision Tree\n",
    "DT = DecisionTreeClassifier()\n",
    "DT.fit(X_train,y_train)\n",
    "y_pred = DT.predict(X_test)\n",
    "score_DT = DT.score(X_test,y_test)\n",
    "print(\"The accuracy of the Decision tree model is \",score_DT)\n",
    "targets = ['<=50k' , '>50k']\n",
    "print(classification_report(y_test, y_pred,target_names=targets))"
   ]
  },
  {
   "cell_type": "code",
   "execution_count": null,
   "id": "pacific-cutting",
   "metadata": {
    "execution": {
     "iopub.execute_input": "2021-06-28T06:58:28.954375Z",
     "iopub.status.busy": "2021-06-28T06:58:28.953324Z",
     "iopub.status.idle": "2021-06-28T06:58:28.967742Z",
     "shell.execute_reply": "2021-06-28T06:58:28.968701Z",
     "shell.execute_reply.started": "2021-06-28T06:57:25.156100Z"
    },
    "id": "QV3mGv2Xn0MD",
    "outputId": "31194857-1de5-4a8c-acf3-dcb476767367",
    "papermill": {
     "duration": 0.046327,
     "end_time": "2021-06-28T06:58:28.969092",
     "exception": false,
     "start_time": "2021-06-28T06:58:28.922765",
     "status": "completed"
    },
    "tags": []
   },
   "outputs": [],
   "source": [
    "# Gaussian Naive Bayes\n",
    "GNB = GaussianNB()\n",
    "GNB.fit(X_train, y_train)\n",
    "y_pred = GNB.predict(X_test)\n",
    "score_GNB = GNB.score(X_test,y_test)\n",
    "print('The accuracy of Gaussian Naive Bayes model is', score_GNB)\n",
    "targets = ['<=50k' , '>50k']\n",
    "print(classification_report(y_test, y_pred,target_names=targets))"
   ]
  },
  {
   "cell_type": "code",
   "execution_count": null,
   "id": "african-norfolk",
   "metadata": {
    "execution": {
     "iopub.execute_input": "2021-06-28T06:58:29.025062Z",
     "iopub.status.busy": "2021-06-28T06:58:29.024278Z",
     "iopub.status.idle": "2021-06-28T06:58:29.051994Z",
     "shell.execute_reply": "2021-06-28T06:58:29.052952Z",
     "shell.execute_reply.started": "2021-06-28T06:57:25.178145Z"
    },
    "id": "LrJJhQI2n7Rq",
    "outputId": "272ae43f-9b5a-455a-9450-425b3ad67eee",
    "papermill": {
     "duration": 0.061403,
     "end_time": "2021-06-28T06:58:29.053223",
     "exception": false,
     "start_time": "2021-06-28T06:58:28.991820",
     "status": "completed"
    },
    "tags": []
   },
   "outputs": [],
   "source": [
    "# K-Nearest Neighbors\n",
    "knn = KNeighborsClassifier()\n",
    "knn.fit(X_train, y_train)\n",
    "y_pred = knn.predict(X_test)\n",
    "score_knn = knn.score(X_test,y_test)\n",
    "print('The accuracy of the KNN Model is',score_knn)\n",
    "targets = ['<=50k' , '>50k']\n",
    "print(classification_report(y_test, y_pred,target_names=targets))"
   ]
  }
 ],
 "metadata": {
  "kernelspec": {
   "display_name": "Python 3 (ipykernel)",
   "language": "python",
   "name": "python3"
  },
  "language_info": {
   "codemirror_mode": {
    "name": "ipython",
    "version": 3
   },
   "file_extension": ".py",
   "mimetype": "text/x-python",
   "name": "python",
   "nbconvert_exporter": "python",
   "pygments_lexer": "ipython3",
   "version": "3.9.13"
  },
  "papermill": {
   "default_parameters": {},
   "duration": 10.079392,
   "end_time": "2021-06-28T06:58:29.785377",
   "environment_variables": {},
   "exception": null,
   "input_path": "__notebook__.ipynb",
   "output_path": "__notebook__.ipynb",
   "parameters": {},
   "start_time": "2021-06-28T06:58:19.705985",
   "version": "2.3.2"
  }
 },
 "nbformat": 4,
 "nbformat_minor": 5
}
